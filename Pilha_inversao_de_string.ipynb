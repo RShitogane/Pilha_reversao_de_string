{
 "cells": [
  {
   "cell_type": "code",
   "execution_count": 11,
   "metadata": {},
   "outputs": [
    {
     "name": "stdout",
     "output_type": "stream",
     "text": [
      "String invertida: adddak\n",
      "String invertida: adddak\n",
      "\n",
      "String invertida: 121546\n",
      "String invertida: 121546\n",
      "\n",
      "String invertida: 1licaf licaf2\n",
      "String invertida: 1licaf licaf2\n",
      "\n",
      "String invertida: rac ecar\n",
      "String invertida: rac ecar\n",
      "\n",
      "String invertida: 57/787*544548-\n",
      "String invertida: 57/787*544548-\n",
      "\n",
      "String invertida: )(*&^%$#@!\n",
      "String invertida: )(*&^%$#@!\n",
      "\n"
     ]
    }
   ],
   "source": [
    "class Pilha:\n",
    "    def __init__(self):\n",
    "        self.items = []\n",
    "\n",
    "    def is_empty(self):\n",
    "        return self.items == []\n",
    "\n",
    "    def push(self, item):\n",
    "        self.items.append(item)\n",
    "\n",
    "    def pop(self):\n",
    "        return self.items.pop()\n",
    "\n",
    "    def peek(self):\n",
    "        return self.items[-1]\n",
    "\n",
    "    def size(self):\n",
    "        return len(self.items)\n",
    "\n",
    "def reverter_string(string):\n",
    "    pilha = Pilha()\n",
    "    \n",
    "    for caractere in string:\n",
    "        pilha.push(caractere)\n",
    "\n",
    "    string_invertida = \"\"\n",
    "    while not pilha.is_empty():\n",
    "        string_invertida += pilha.pop()\n",
    "\n",
    "    return string_invertida\n",
    "# Testes\n",
    "strings = [\"kaddda\", \"645121\", \"2facil facil1\", \"race car\", \"-845445*787/75\", \"!@#$%^&*()\"]\n",
    "\n",
    "for string in strings:   \n",
    "    print(f\"String invertida: {reverter_string(string)}\")\n",
    "    print(f\"String invertida: {reverter_string(string)}\")\n",
    "    print()"
   ]
  }
 ],
 "metadata": {
  "kernelspec": {
   "display_name": "Python 3",
   "language": "python",
   "name": "python3"
  },
  "language_info": {
   "codemirror_mode": {
    "name": "ipython",
    "version": 3
   },
   "file_extension": ".py",
   "mimetype": "text/x-python",
   "name": "python",
   "nbconvert_exporter": "python",
   "pygments_lexer": "ipython3",
   "version": "3.12.1"
  }
 },
 "nbformat": 4,
 "nbformat_minor": 2
}
